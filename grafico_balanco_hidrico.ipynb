{
  "nbformat": 4,
  "nbformat_minor": 0,
  "metadata": {
    "colab": {
      "name": "grafico_balanco_hidrico.ipynb",
      "provenance": [],
      "collapsed_sections": [],
      "authorship_tag": "ABX9TyOVBLEq8Gsj9KfqKQSzPQoX",
      "include_colab_link": true
    },
    "kernelspec": {
      "name": "python3",
      "display_name": "Python 3"
    }
  },
  "cells": [
    {
      "cell_type": "markdown",
      "metadata": {
        "id": "view-in-github",
        "colab_type": "text"
      },
      "source": [
        "<a href=\"https://colab.research.google.com/github/AlanLinsAlves/Projetos_Pessoais/blob/main/grafico_balanco_hidrico.ipynb\" target=\"_parent\"><img src=\"https://colab.research.google.com/assets/colab-badge.svg\" alt=\"Open In Colab\"/></a>"
      ]
    },
    {
      "cell_type": "markdown",
      "metadata": {
        "id": "6YBTFK6rkYi-"
      },
      "source": [
        "#### Importando Bibliotecas e Carregando os Dados"
      ]
    },
    {
      "cell_type": "code",
      "metadata": {
        "id": "rBf89ITwDirn"
      },
      "source": [
        "#Importando bibliotecas necessárias\r\n",
        "import pandas as pd\r\n",
        "import matplotlib.pyplot as plt"
      ],
      "execution_count": 1,
      "outputs": []
    },
    {
      "cell_type": "code",
      "metadata": {
        "id": "71BrAxTWH3zX"
      },
      "source": [
        "#Lendo planilha excel\r\n",
        "dados = pd.read_excel('/content/dados_balaco_hidrico_Joao_Pessoa.xlsx', skiprows = [0, 14], index_col = 'Mês')"
      ],
      "execution_count": 2,
      "outputs": []
    },
    {
      "cell_type": "code",
      "metadata": {
        "colab": {
          "base_uri": "https://localhost:8080/",
          "height": 452
        },
        "id": "Oa-vHP2ZIiPv",
        "outputId": "22ff19c7-d13d-4377-f2c9-b60e596cae55"
      },
      "source": [
        "#Visualizando os dados\r\n",
        "dados"
      ],
      "execution_count": 3,
      "outputs": [
        {
          "output_type": "execute_result",
          "data": {
            "text/html": [
              "<div>\n",
              "<style scoped>\n",
              "    .dataframe tbody tr th:only-of-type {\n",
              "        vertical-align: middle;\n",
              "    }\n",
              "\n",
              "    .dataframe tbody tr th {\n",
              "        vertical-align: top;\n",
              "    }\n",
              "\n",
              "    .dataframe thead th {\n",
              "        text-align: right;\n",
              "    }\n",
              "</style>\n",
              "<table border=\"1\" class=\"dataframe\">\n",
              "  <thead>\n",
              "    <tr style=\"text-align: right;\">\n",
              "      <th></th>\n",
              "      <th>T°C</th>\n",
              "      <th>P</th>\n",
              "      <th>ETP</th>\n",
              "      <th>P-ETP</th>\n",
              "      <th>ARM VAL</th>\n",
              "      <th>ARM ALT</th>\n",
              "      <th>ETR</th>\n",
              "      <th>DEF</th>\n",
              "      <th>EXC</th>\n",
              "      <th>ESC</th>\n",
              "    </tr>\n",
              "    <tr>\n",
              "      <th>Mês</th>\n",
              "      <th></th>\n",
              "      <th></th>\n",
              "      <th></th>\n",
              "      <th></th>\n",
              "      <th></th>\n",
              "      <th></th>\n",
              "      <th></th>\n",
              "      <th></th>\n",
              "      <th></th>\n",
              "      <th></th>\n",
              "    </tr>\n",
              "  </thead>\n",
              "  <tbody>\n",
              "    <tr>\n",
              "      <th>Jan</th>\n",
              "      <td>NaN</td>\n",
              "      <td>73.9</td>\n",
              "      <td>188.3</td>\n",
              "      <td>-114.4</td>\n",
              "      <td>0.0</td>\n",
              "      <td>0</td>\n",
              "      <td>73.9</td>\n",
              "      <td>114.4</td>\n",
              "      <td>0.0</td>\n",
              "      <td>NaN</td>\n",
              "    </tr>\n",
              "    <tr>\n",
              "      <th>Fev</th>\n",
              "      <td>NaN</td>\n",
              "      <td>105.4</td>\n",
              "      <td>175.9</td>\n",
              "      <td>-70.5</td>\n",
              "      <td>0.0</td>\n",
              "      <td>0</td>\n",
              "      <td>105.4</td>\n",
              "      <td>70.5</td>\n",
              "      <td>0.0</td>\n",
              "      <td>NaN</td>\n",
              "    </tr>\n",
              "    <tr>\n",
              "      <th>Mar</th>\n",
              "      <td>NaN</td>\n",
              "      <td>193.9</td>\n",
              "      <td>193.4</td>\n",
              "      <td>0.5</td>\n",
              "      <td>0.5</td>\n",
              "      <td>+0,5</td>\n",
              "      <td>193.4</td>\n",
              "      <td>0.0</td>\n",
              "      <td>0.0</td>\n",
              "      <td>NaN</td>\n",
              "    </tr>\n",
              "    <tr>\n",
              "      <th>Abr</th>\n",
              "      <td>NaN</td>\n",
              "      <td>280.4</td>\n",
              "      <td>178.5</td>\n",
              "      <td>101.9</td>\n",
              "      <td>100.0</td>\n",
              "      <td>+101,9</td>\n",
              "      <td>178.5</td>\n",
              "      <td>0.0</td>\n",
              "      <td>2.4</td>\n",
              "      <td>NaN</td>\n",
              "    </tr>\n",
              "    <tr>\n",
              "      <th>Mai</th>\n",
              "      <td>NaN</td>\n",
              "      <td>284.0</td>\n",
              "      <td>167.1</td>\n",
              "      <td>116.9</td>\n",
              "      <td>100.0</td>\n",
              "      <td>0</td>\n",
              "      <td>167.1</td>\n",
              "      <td>0.0</td>\n",
              "      <td>116.9</td>\n",
              "      <td>NaN</td>\n",
              "    </tr>\n",
              "    <tr>\n",
              "      <th>Jun</th>\n",
              "      <td>NaN</td>\n",
              "      <td>355.2</td>\n",
              "      <td>139.7</td>\n",
              "      <td>215.5</td>\n",
              "      <td>100.0</td>\n",
              "      <td>0</td>\n",
              "      <td>139.7</td>\n",
              "      <td>0.0</td>\n",
              "      <td>215.5</td>\n",
              "      <td>NaN</td>\n",
              "    </tr>\n",
              "    <tr>\n",
              "      <th>Jul</th>\n",
              "      <td>NaN</td>\n",
              "      <td>302.4</td>\n",
              "      <td>131.2</td>\n",
              "      <td>171.2</td>\n",
              "      <td>100.0</td>\n",
              "      <td>0</td>\n",
              "      <td>131.2</td>\n",
              "      <td>0.0</td>\n",
              "      <td>171.2</td>\n",
              "      <td>NaN</td>\n",
              "    </tr>\n",
              "    <tr>\n",
              "      <th>Ago</th>\n",
              "      <td>NaN</td>\n",
              "      <td>156.4</td>\n",
              "      <td>135.4</td>\n",
              "      <td>21.0</td>\n",
              "      <td>100.0</td>\n",
              "      <td>0</td>\n",
              "      <td>135.4</td>\n",
              "      <td>0.0</td>\n",
              "      <td>21.0</td>\n",
              "      <td>NaN</td>\n",
              "    </tr>\n",
              "    <tr>\n",
              "      <th>Set</th>\n",
              "      <td>NaN</td>\n",
              "      <td>68.6</td>\n",
              "      <td>146.7</td>\n",
              "      <td>-78.1</td>\n",
              "      <td>21.9</td>\n",
              "      <td>-78.1</td>\n",
              "      <td>146.7</td>\n",
              "      <td>0.0</td>\n",
              "      <td>0.0</td>\n",
              "      <td>NaN</td>\n",
              "    </tr>\n",
              "    <tr>\n",
              "      <th>Out</th>\n",
              "      <td>NaN</td>\n",
              "      <td>33.1</td>\n",
              "      <td>165.0</td>\n",
              "      <td>-131.9</td>\n",
              "      <td>0.0</td>\n",
              "      <td>-21.9</td>\n",
              "      <td>55.0</td>\n",
              "      <td>110.0</td>\n",
              "      <td>0.0</td>\n",
              "      <td>NaN</td>\n",
              "    </tr>\n",
              "    <tr>\n",
              "      <th>Nov</th>\n",
              "      <td>NaN</td>\n",
              "      <td>27.0</td>\n",
              "      <td>169.2</td>\n",
              "      <td>-142.2</td>\n",
              "      <td>0.0</td>\n",
              "      <td>0</td>\n",
              "      <td>27.0</td>\n",
              "      <td>142.2</td>\n",
              "      <td>0.0</td>\n",
              "      <td>NaN</td>\n",
              "    </tr>\n",
              "    <tr>\n",
              "      <th>Dez</th>\n",
              "      <td>NaN</td>\n",
              "      <td>33.7</td>\n",
              "      <td>185.8</td>\n",
              "      <td>-152.1</td>\n",
              "      <td>0.0</td>\n",
              "      <td>0</td>\n",
              "      <td>33.7</td>\n",
              "      <td>152.1</td>\n",
              "      <td>0.0</td>\n",
              "      <td>NaN</td>\n",
              "    </tr>\n",
              "  </tbody>\n",
              "</table>\n",
              "</div>"
            ],
            "text/plain": [
              "     T°C      P    ETP  P-ETP  ARM VAL ARM ALT    ETR    DEF    EXC  ESC\n",
              "Mês                                                                     \n",
              "Jan  NaN   73.9  188.3 -114.4      0.0       0   73.9  114.4    0.0  NaN\n",
              "Fev  NaN  105.4  175.9  -70.5      0.0       0  105.4   70.5    0.0  NaN\n",
              "Mar  NaN  193.9  193.4    0.5      0.5    +0,5  193.4    0.0    0.0  NaN\n",
              "Abr  NaN  280.4  178.5  101.9    100.0  +101,9  178.5    0.0    2.4  NaN\n",
              "Mai  NaN  284.0  167.1  116.9    100.0       0  167.1    0.0  116.9  NaN\n",
              "Jun  NaN  355.2  139.7  215.5    100.0       0  139.7    0.0  215.5  NaN\n",
              "Jul  NaN  302.4  131.2  171.2    100.0       0  131.2    0.0  171.2  NaN\n",
              "Ago  NaN  156.4  135.4   21.0    100.0       0  135.4    0.0   21.0  NaN\n",
              "Set  NaN   68.6  146.7  -78.1     21.9   -78.1  146.7    0.0    0.0  NaN\n",
              "Out  NaN   33.1  165.0 -131.9      0.0   -21.9   55.0  110.0    0.0  NaN\n",
              "Nov  NaN   27.0  169.2 -142.2      0.0       0   27.0  142.2    0.0  NaN\n",
              "Dez  NaN   33.7  185.8 -152.1      0.0       0   33.7  152.1    0.0  NaN"
            ]
          },
          "metadata": {
            "tags": []
          },
          "execution_count": 3
        }
      ]
    },
    {
      "cell_type": "markdown",
      "metadata": {
        "id": "lvUOytSeeXER"
      },
      "source": [
        "#### Plotando a Série Temporal"
      ]
    },
    {
      "cell_type": "code",
      "metadata": {
        "colab": {
          "base_uri": "https://localhost:8080/",
          "height": 441
        },
        "id": "7eDvorGtIjH3",
        "outputId": "5922b080-5e33-4dcf-a2a1-afed53c8e811"
      },
      "source": [
        "#Definindo figura e eixos\r\n",
        "fig, ax = plt.subplots(1, 1, figsize = (9,6))\r\n",
        "\r\n",
        "#Plotando as curvas de precipitação, Evapotranspiações Potencial e Real\r\n",
        "ax.plot(dados.index, dados.P, c = 'royalblue', label = 'Precipitação')\r\n",
        "ax.plot(dados.index, dados.ETP, c = 'orange', label = 'Evapotranspiração Potencial')\r\n",
        "ax.plot(dados.index, dados.ETR, c = 'chartreuse', label = 'Evapotranspiração Real')\r\n",
        "\r\n",
        "#Hachurando onde a curva de Precipitação está acima da curva de\r\n",
        "#Evapotranspiração Potencial/Real até o mês de maio, onde ocorre a total reposição de água no solo.\r\n",
        "ax.fill_between(dados.index[:5], dados.P.iloc[:5], dados.ETP.iloc[:5], \r\n",
        "                where= (dados.P.iloc[:5] >= dados.ETP.iloc[:5]), \r\n",
        "                facecolor='white', \r\n",
        "                hatch = '\\\\\\\\\\\\',\r\n",
        "                interpolate = True, label = 'Reposição')\r\n",
        "\r\n",
        "#Hachurando onde a curva de Precipitação está acima da curva de\r\n",
        "#Evapotranspiração Potencial/Real do mês de maio em diante.\r\n",
        "ax.fill_between(dados.index[4:], dados.P.iloc[4:], dados.ETP.iloc[4:], \r\n",
        "                where= (dados.P.iloc[4:] >= dados.ETP.iloc[4:]), \r\n",
        "                facecolor='white', \r\n",
        "                hatch = '|||',\r\n",
        "                interpolate = True, label = 'Excedente')\r\n",
        "\r\n",
        "#Hachurando onde a curva de Precipitação está abaixo da curva de Evapotranspiração Potencial\r\n",
        "ax.fill_between(dados.index, dados.P, dados.ETP, \r\n",
        "                where= (dados.P <= dados.ETP), \r\n",
        "                facecolor='white', \r\n",
        "                hatch = '...',\r\n",
        "                interpolate = True, label = 'Deficiência')\r\n",
        "\r\n",
        "#Hachurando onde a curva de Precipitação está abaixo da curva de Evapotranspiração Real\r\n",
        "ax.fill_between(dados.index, dados.P, dados.ETR, \r\n",
        "                where= (dados.P <= dados.ETR), \r\n",
        "                facecolor='white', \r\n",
        "                hatch = '///',\r\n",
        "                interpolate = True, label = 'Retirada')\r\n",
        "\r\n",
        "#Definindo o grig, título do gráfico, texto do eixo y e caixa de legenda\r\n",
        "ax.grid(alpha = 0.2)\r\n",
        "ax.set_title('Balanço Hídrico', fontsize = 20, alpha = 0.7)\r\n",
        "ax.set_ylabel('mm', alpha = 0.8)\r\n",
        "ax.legend()\r\n",
        "\r\n",
        "#Mostrando gráfico resultante\r\n",
        "plt.tight_layout()\r\n",
        "plt.show()"
      ],
      "execution_count": 4,
      "outputs": [
        {
          "output_type": "display_data",
          "data": {
            "image/png": "[encoded data removed]",
            "text/plain": [
              "<Figure size 648x432 with 1 Axes>"
            ]
          },
          "metadata": {
            "tags": [],
            "needs_background": "light"
          }
        }
      ]
    },
    {
      "cell_type": "code",
      "metadata": {
        "id": "oHMHh5UNiJin"
      },
      "source": [
        ""
      ],
      "execution_count": null,
      "outputs": []
    }
  ]
}