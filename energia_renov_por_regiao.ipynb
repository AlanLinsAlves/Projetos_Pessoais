{
  "nbformat": 4,
  "nbformat_minor": 0,
  "metadata": {
    "colab": {
      "name": "energia_renov_por_regiao.ipynb",
      "provenance": [],
      "collapsed_sections": [],
      "authorship_tag": "ABX9TyMFtbMSGDELFS5XHA95fhdJ",
      "include_colab_link": true
    },
    "kernelspec": {
      "display_name": "Python 3",
      "name": "python3"
    }
  },
  "cells": [
    {
      "cell_type": "markdown",
      "metadata": {
        "id": "view-in-github",
        "colab_type": "text"
      },
      "source": [
        "<a href=\"https://colab.research.google.com/github/AlanLinsAlves/Projetos_Pessoais/blob/main/energia_renov_por_regiao.ipynb\" target=\"_parent\"><img src=\"https://colab.research.google.com/assets/colab-badge.svg\" alt=\"Open In Colab\"/></a>"
      ]
    },
    {
      "cell_type": "markdown",
      "metadata": {
        "id": "QKk9yfaboRJ8"
      },
      "source": [
        "# Um gráfico de barras apresentável sobre a potência gerada a partir de fontes de energia renováveis no Brasil"
      ]
    },
    {
      "cell_type": "markdown",
      "metadata": {
        "id": "RQTjJ6_IuyBT"
      },
      "source": [
        "## Tratamento dos dados"
      ]
    },
    {
      "cell_type": "code",
      "metadata": {
        "id": "jB9FX61kohDa"
      },
      "source": [
        "#Importando bibliotecas necessárias\r\n",
        "import pandas as pd\r\n",
        "import matplotlib.pyplot as plt\r\n",
        "import numpy as np"
      ],
      "execution_count": 1,
      "outputs": []
    },
    {
      "cell_type": "code",
      "metadata": {
        "id": "MSQo7jigDVoe",
        "colab": {
          "base_uri": "https://localhost:8080/",
          "height": 407
        },
        "outputId": "d274486e-6dc2-4ed2-adc4-6a09e99c4759"
      },
      "source": [
        "#Visualizando base de dados\r\n",
        "pd.read_excel('/content/BD SIGA 01122020.xlsx').head(3)"
      ],
      "execution_count": 2,
      "outputs": [
        {
          "output_type": "execute_result",
          "data": {
            "text/html": [
              "<div>\n",
              "<style scoped>\n",
              "    .dataframe tbody tr th:only-of-type {\n",
              "        vertical-align: middle;\n",
              "    }\n",
              "\n",
              "    .dataframe tbody tr th {\n",
              "        vertical-align: top;\n",
              "    }\n",
              "\n",
              "    .dataframe thead th {\n",
              "        text-align: right;\n",
              "    }\n",
              "</style>\n",
              "<table border=\"1\" class=\"dataframe\">\n",
              "  <thead>\n",
              "    <tr style=\"text-align: right;\">\n",
              "      <th></th>\n",
              "      <th>Data de referência dos dados: 01 de dezembro de 2020</th>\n",
              "      <th>Unnamed: 1</th>\n",
              "      <th>Unnamed: 2</th>\n",
              "      <th>Unnamed: 3</th>\n",
              "      <th>Unnamed: 4</th>\n",
              "      <th>Unnamed: 5</th>\n",
              "      <th>Unnamed: 6</th>\n",
              "      <th>Unnamed: 7</th>\n",
              "      <th>Unnamed: 8</th>\n",
              "      <th>Unnamed: 9</th>\n",
              "      <th>Unnamed: 10</th>\n",
              "      <th>Unnamed: 11</th>\n",
              "      <th>Unnamed: 12</th>\n",
              "      <th>Unnamed: 13</th>\n",
              "      <th>Unnamed: 14</th>\n",
              "      <th>Unnamed: 15</th>\n",
              "      <th>Unnamed: 16</th>\n",
              "      <th>Unnamed: 17</th>\n",
              "      <th>Unnamed: 18</th>\n",
              "      <th>Unnamed: 19</th>\n",
              "      <th>Unnamed: 20</th>\n",
              "    </tr>\n",
              "  </thead>\n",
              "  <tbody>\n",
              "    <tr>\n",
              "      <th>0</th>\n",
              "      <td>Empreendimento</td>\n",
              "      <td>CEG</td>\n",
              "      <td>UF</td>\n",
              "      <td>Fonte</td>\n",
              "      <td>Fase</td>\n",
              "      <td>Origem</td>\n",
              "      <td>Tipo</td>\n",
              "      <td>Tipo de Atuação</td>\n",
              "      <td>Combustível Final</td>\n",
              "      <td>Entrada em Operação</td>\n",
              "      <td>Potência Outorgada (kW)</td>\n",
              "      <td>Potência Fiscalizada (kW)</td>\n",
              "      <td>Garantia Fisica (kW)</td>\n",
              "      <td>Geração Qualificada</td>\n",
              "      <td>Latitude (GMS)</td>\n",
              "      <td>Longitude (GMS)</td>\n",
              "      <td>Início Vigência</td>\n",
              "      <td>Fim Vigência</td>\n",
              "      <td>Proprietário / Regime de Exploração</td>\n",
              "      <td>Cod e Desc Sub-Bacia</td>\n",
              "      <td>Município (s)</td>\n",
              "    </tr>\n",
              "    <tr>\n",
              "      <th>1</th>\n",
              "      <td>14 de Julho</td>\n",
              "      <td>UHE.PH.RS.000012-4</td>\n",
              "      <td>RS</td>\n",
              "      <td>UHE</td>\n",
              "      <td>Operação</td>\n",
              "      <td>Hídrica</td>\n",
              "      <td>Potencial hidráulico</td>\n",
              "      <td>Concessão</td>\n",
              "      <td>Potencial hidráulico</td>\n",
              "      <td>25/12/2008</td>\n",
              "      <td>100000</td>\n",
              "      <td>100710</td>\n",
              "      <td>47500</td>\n",
              "      <td>Não</td>\n",
              "      <td>29°3'53,136\"S</td>\n",
              "      <td>51°40'29,824\"W</td>\n",
              "      <td>2001-03-15 00:00:00</td>\n",
              "      <td>2036-03-15 00:00:00</td>\n",
              "      <td>100% para COMPANHIA ENERGÉTICA RIO DAS ANTAS (...</td>\n",
              "      <td>86 - Taquari</td>\n",
              "      <td>Bento Gonçalves - RS, Cotiporã - RS</td>\n",
              "    </tr>\n",
              "    <tr>\n",
              "      <th>2</th>\n",
              "      <td>29 de Outubro</td>\n",
              "      <td>UTE.PE.SC.029920-0</td>\n",
              "      <td>SC</td>\n",
              "      <td>UTE</td>\n",
              "      <td>Operação</td>\n",
              "      <td>Fóssil</td>\n",
              "      <td>Petróleo</td>\n",
              "      <td>Registro</td>\n",
              "      <td>Óleo Diesel</td>\n",
              "      <td>07/10/2008</td>\n",
              "      <td>62</td>\n",
              "      <td>62</td>\n",
              "      <td>0</td>\n",
              "      <td>Não</td>\n",
              "      <td>26° 29' 9,370\" S</td>\n",
              "      <td>49° 5' 10,100\" W</td>\n",
              "      <td>NaN</td>\n",
              "      <td>NaN</td>\n",
              "      <td>100% para Condomínio Residencial 29 de Outubro...</td>\n",
              "      <td>NaN</td>\n",
              "      <td>Jaraguá do Sul - SC</td>\n",
              "    </tr>\n",
              "  </tbody>\n",
              "</table>\n",
              "</div>"
            ],
            "text/plain": [
              "  Data de referência dos dados: 01 de dezembro de 2020  ...                          Unnamed: 20\n",
              "0                                     Empreendimento    ...                        Município (s)\n",
              "1                                        14 de Julho    ...  Bento Gonçalves - RS, Cotiporã - RS\n",
              "2                                      29 de Outubro    ...                  Jaraguá do Sul - SC\n",
              "\n",
              "[3 rows x 21 columns]"
            ]
          },
          "metadata": {
            "tags": []
          },
          "execution_count": 2
        }
      ]
    },
    {
      "cell_type": "code",
      "metadata": {
        "id": "gXKFHRVlqdpR"
      },
      "source": [
        "#Lendo a base de dados de forma mais adequada\r\n",
        "dados = pd.read_excel('/content/BD SIGA 01122020.xlsx',\r\n",
        "                      skiprows = [0],\r\n",
        "                      usecols = ['UF', 'Fonte', 'Fase', 'Origem',\r\n",
        "                                 'Potência Outorgada (kW)',\r\n",
        "                                 'Potência Fiscalizada (kW)'])"
      ],
      "execution_count": 3,
      "outputs": []
    },
    {
      "cell_type": "code",
      "metadata": {
        "id": "ewS_ToqWdccK"
      },
      "source": [
        "#Mudando o nome de algumas colunas só por conveniência\r\n",
        "dados.columns = ['UF', 'Tipo_empr', 'Fase', 'Fonte_Energia',\r\n",
        "                 'Pot_out', 'Pot_fis']"
      ],
      "execution_count": 4,
      "outputs": []
    },
    {
      "cell_type": "code",
      "metadata": {
        "id": "xEcNyj2socsC",
        "colab": {
          "base_uri": "https://localhost:8080/",
          "height": 197
        },
        "outputId": "d5aca5a4-abdf-4743-f05b-a6f92fad76bf"
      },
      "source": [
        "#Dando uma olhada nas cinco primeiras linhas\r\n",
        "dados.head()"
      ],
      "execution_count": 5,
      "outputs": [
        {
          "output_type": "execute_result",
          "data": {
            "text/html": [
              "<div>\n",
              "<style scoped>\n",
              "    .dataframe tbody tr th:only-of-type {\n",
              "        vertical-align: middle;\n",
              "    }\n",
              "\n",
              "    .dataframe tbody tr th {\n",
              "        vertical-align: top;\n",
              "    }\n",
              "\n",
              "    .dataframe thead th {\n",
              "        text-align: right;\n",
              "    }\n",
              "</style>\n",
              "<table border=\"1\" class=\"dataframe\">\n",
              "  <thead>\n",
              "    <tr style=\"text-align: right;\">\n",
              "      <th></th>\n",
              "      <th>UF</th>\n",
              "      <th>Tipo_empr</th>\n",
              "      <th>Fase</th>\n",
              "      <th>Fonte_Energia</th>\n",
              "      <th>Pot_out</th>\n",
              "      <th>Pot_fis</th>\n",
              "    </tr>\n",
              "  </thead>\n",
              "  <tbody>\n",
              "    <tr>\n",
              "      <th>0</th>\n",
              "      <td>RS</td>\n",
              "      <td>UHE</td>\n",
              "      <td>Operação</td>\n",
              "      <td>Hídrica</td>\n",
              "      <td>100000.0</td>\n",
              "      <td>100710.0</td>\n",
              "    </tr>\n",
              "    <tr>\n",
              "      <th>1</th>\n",
              "      <td>SC</td>\n",
              "      <td>UTE</td>\n",
              "      <td>Operação</td>\n",
              "      <td>Fóssil</td>\n",
              "      <td>62.0</td>\n",
              "      <td>62.0</td>\n",
              "    </tr>\n",
              "    <tr>\n",
              "      <th>2</th>\n",
              "      <td>MG</td>\n",
              "      <td>UTE</td>\n",
              "      <td>Operação</td>\n",
              "      <td>Fóssil</td>\n",
              "      <td>240.0</td>\n",
              "      <td>240.0</td>\n",
              "    </tr>\n",
              "    <tr>\n",
              "      <th>3</th>\n",
              "      <td>SP</td>\n",
              "      <td>UTE</td>\n",
              "      <td>Operação</td>\n",
              "      <td>Fóssil</td>\n",
              "      <td>3840.0</td>\n",
              "      <td>3840.0</td>\n",
              "    </tr>\n",
              "    <tr>\n",
              "      <th>4</th>\n",
              "      <td>SP</td>\n",
              "      <td>UTE</td>\n",
              "      <td>Operação</td>\n",
              "      <td>Fóssil</td>\n",
              "      <td>6400.0</td>\n",
              "      <td>6400.0</td>\n",
              "    </tr>\n",
              "  </tbody>\n",
              "</table>\n",
              "</div>"
            ],
            "text/plain": [
              "   UF Tipo_empr      Fase Fonte_Energia   Pot_out   Pot_fis\n",
              "0  RS       UHE  Operação       Hídrica  100000.0  100710.0\n",
              "1  SC       UTE  Operação        Fóssil      62.0      62.0\n",
              "2  MG       UTE  Operação        Fóssil     240.0     240.0\n",
              "3  SP       UTE  Operação        Fóssil    3840.0    3840.0\n",
              "4  SP       UTE  Operação        Fóssil    6400.0    6400.0"
            ]
          },
          "metadata": {
            "tags": []
          },
          "execution_count": 5
        }
      ]
    },
    {
      "cell_type": "code",
      "metadata": {
        "id": "MgddLQ-MDQZT"
      },
      "source": [
        "#Criando dicionário com as regioes do Brasil\r\n",
        "regioes = {'Norte': ['AM', 'PA', 'AC', 'RO', 'RR', 'AP', 'TO'],\r\n",
        "           'Nordeste': ['AL', 'BA', 'CE', 'MA', 'PB', 'PE', 'PI', 'RN', 'SE'],\r\n",
        "           'Centro-Oeste': ['DF', 'GO', 'MS', 'MT'],\r\n",
        "           'Sudeste': ['ES', 'MG', 'RJ', 'SP'],\r\n",
        "           'Sul': ['PR', 'SC', 'RS']}"
      ],
      "execution_count": 6,
      "outputs": []
    },
    {
      "cell_type": "code",
      "metadata": {
        "id": "mseUEnJ_DQcR"
      },
      "source": [
        "#Função de retorna a regiao onde o estado se encontra\r\n",
        "def reg(estado):\r\n",
        "    for regiao, estados in regioes.items():\r\n",
        "        if estado in estados:\r\n",
        "            return regiao"
      ],
      "execution_count": 7,
      "outputs": []
    },
    {
      "cell_type": "code",
      "metadata": {
        "colab": {
          "base_uri": "https://localhost:8080/",
          "height": 197
        },
        "id": "zLClKjuIDQfs",
        "outputId": "7bc48cb0-6cc9-4726-8b1e-89d688d4b236"
      },
      "source": [
        "#Adicionando a coluna regiao ao nosso dataframe\r\n",
        "dados['Regiao'] = dados.UF.apply(reg)\r\n",
        "dados.head()"
      ],
      "execution_count": 8,
      "outputs": [
        {
          "output_type": "execute_result",
          "data": {
            "text/html": [
              "<div>\n",
              "<style scoped>\n",
              "    .dataframe tbody tr th:only-of-type {\n",
              "        vertical-align: middle;\n",
              "    }\n",
              "\n",
              "    .dataframe tbody tr th {\n",
              "        vertical-align: top;\n",
              "    }\n",
              "\n",
              "    .dataframe thead th {\n",
              "        text-align: right;\n",
              "    }\n",
              "</style>\n",
              "<table border=\"1\" class=\"dataframe\">\n",
              "  <thead>\n",
              "    <tr style=\"text-align: right;\">\n",
              "      <th></th>\n",
              "      <th>UF</th>\n",
              "      <th>Tipo_empr</th>\n",
              "      <th>Fase</th>\n",
              "      <th>Fonte_Energia</th>\n",
              "      <th>Pot_out</th>\n",
              "      <th>Pot_fis</th>\n",
              "      <th>Regiao</th>\n",
              "    </tr>\n",
              "  </thead>\n",
              "  <tbody>\n",
              "    <tr>\n",
              "      <th>0</th>\n",
              "      <td>RS</td>\n",
              "      <td>UHE</td>\n",
              "      <td>Operação</td>\n",
              "      <td>Hídrica</td>\n",
              "      <td>100000.0</td>\n",
              "      <td>100710.0</td>\n",
              "      <td>Sul</td>\n",
              "    </tr>\n",
              "    <tr>\n",
              "      <th>1</th>\n",
              "      <td>SC</td>\n",
              "      <td>UTE</td>\n",
              "      <td>Operação</td>\n",
              "      <td>Fóssil</td>\n",
              "      <td>62.0</td>\n",
              "      <td>62.0</td>\n",
              "      <td>Sul</td>\n",
              "    </tr>\n",
              "    <tr>\n",
              "      <th>2</th>\n",
              "      <td>MG</td>\n",
              "      <td>UTE</td>\n",
              "      <td>Operação</td>\n",
              "      <td>Fóssil</td>\n",
              "      <td>240.0</td>\n",
              "      <td>240.0</td>\n",
              "      <td>Sudeste</td>\n",
              "    </tr>\n",
              "    <tr>\n",
              "      <th>3</th>\n",
              "      <td>SP</td>\n",
              "      <td>UTE</td>\n",
              "      <td>Operação</td>\n",
              "      <td>Fóssil</td>\n",
              "      <td>3840.0</td>\n",
              "      <td>3840.0</td>\n",
              "      <td>Sudeste</td>\n",
              "    </tr>\n",
              "    <tr>\n",
              "      <th>4</th>\n",
              "      <td>SP</td>\n",
              "      <td>UTE</td>\n",
              "      <td>Operação</td>\n",
              "      <td>Fóssil</td>\n",
              "      <td>6400.0</td>\n",
              "      <td>6400.0</td>\n",
              "      <td>Sudeste</td>\n",
              "    </tr>\n",
              "  </tbody>\n",
              "</table>\n",
              "</div>"
            ],
            "text/plain": [
              "   UF Tipo_empr      Fase Fonte_Energia   Pot_out   Pot_fis   Regiao\n",
              "0  RS       UHE  Operação       Hídrica  100000.0  100710.0      Sul\n",
              "1  SC       UTE  Operação        Fóssil      62.0      62.0      Sul\n",
              "2  MG       UTE  Operação        Fóssil     240.0     240.0  Sudeste\n",
              "3  SP       UTE  Operação        Fóssil    3840.0    3840.0  Sudeste\n",
              "4  SP       UTE  Operação        Fóssil    6400.0    6400.0  Sudeste"
            ]
          },
          "metadata": {
            "tags": []
          },
          "execution_count": 8
        }
      ]
    },
    {
      "cell_type": "code",
      "metadata": {
        "colab": {
          "base_uri": "https://localhost:8080/",
          "height": 197
        },
        "id": "_bIMCIFkFNo2",
        "outputId": "50fd5fe8-28da-43ba-e7f0-d39486f5422b"
      },
      "source": [
        "#Filtrando dados para obter um dataset com os empreendimentos que\r\n",
        "#estão em operação e que utilizam fontes de energia renovável\r\n",
        "df_renov = dados[(dados['Fase'] == 'Operação') & \r\n",
        "                 (dados['Fonte_Energia'] != 'Fóssil') & \r\n",
        "                 (dados['Fonte_Energia'] != 'Nuclear')].reset_index(drop = True)\r\n",
        "df_renov.head()"
      ],
      "execution_count": 9,
      "outputs": [
        {
          "output_type": "execute_result",
          "data": {
            "text/html": [
              "<div>\n",
              "<style scoped>\n",
              "    .dataframe tbody tr th:only-of-type {\n",
              "        vertical-align: middle;\n",
              "    }\n",
              "\n",
              "    .dataframe tbody tr th {\n",
              "        vertical-align: top;\n",
              "    }\n",
              "\n",
              "    .dataframe thead th {\n",
              "        text-align: right;\n",
              "    }\n",
              "</style>\n",
              "<table border=\"1\" class=\"dataframe\">\n",
              "  <thead>\n",
              "    <tr style=\"text-align: right;\">\n",
              "      <th></th>\n",
              "      <th>UF</th>\n",
              "      <th>Tipo_empr</th>\n",
              "      <th>Fase</th>\n",
              "      <th>Fonte_Energia</th>\n",
              "      <th>Pot_out</th>\n",
              "      <th>Pot_fis</th>\n",
              "      <th>Regiao</th>\n",
              "    </tr>\n",
              "  </thead>\n",
              "  <tbody>\n",
              "    <tr>\n",
              "      <th>0</th>\n",
              "      <td>RS</td>\n",
              "      <td>UHE</td>\n",
              "      <td>Operação</td>\n",
              "      <td>Hídrica</td>\n",
              "      <td>100000.0</td>\n",
              "      <td>100710.0</td>\n",
              "      <td>Sul</td>\n",
              "    </tr>\n",
              "    <tr>\n",
              "      <th>1</th>\n",
              "      <td>RS</td>\n",
              "      <td>CGH</td>\n",
              "      <td>Operação</td>\n",
              "      <td>Hídrica</td>\n",
              "      <td>720.0</td>\n",
              "      <td>720.0</td>\n",
              "      <td>Sul</td>\n",
              "    </tr>\n",
              "    <tr>\n",
              "      <th>2</th>\n",
              "      <td>PA</td>\n",
              "      <td>UFV</td>\n",
              "      <td>Operação</td>\n",
              "      <td>Solar</td>\n",
              "      <td>1.0</td>\n",
              "      <td>1.0</td>\n",
              "      <td>Norte</td>\n",
              "    </tr>\n",
              "    <tr>\n",
              "      <th>3</th>\n",
              "      <td>PA</td>\n",
              "      <td>UFV</td>\n",
              "      <td>Operação</td>\n",
              "      <td>Solar</td>\n",
              "      <td>1.0</td>\n",
              "      <td>1.0</td>\n",
              "      <td>Norte</td>\n",
              "    </tr>\n",
              "    <tr>\n",
              "      <th>4</th>\n",
              "      <td>PA</td>\n",
              "      <td>UFV</td>\n",
              "      <td>Operação</td>\n",
              "      <td>Solar</td>\n",
              "      <td>1.0</td>\n",
              "      <td>1.0</td>\n",
              "      <td>Norte</td>\n",
              "    </tr>\n",
              "  </tbody>\n",
              "</table>\n",
              "</div>"
            ],
            "text/plain": [
              "   UF Tipo_empr      Fase Fonte_Energia   Pot_out   Pot_fis Regiao\n",
              "0  RS       UHE  Operação       Hídrica  100000.0  100710.0    Sul\n",
              "1  RS       CGH  Operação       Hídrica     720.0     720.0    Sul\n",
              "2  PA       UFV  Operação         Solar       1.0       1.0  Norte\n",
              "3  PA       UFV  Operação         Solar       1.0       1.0  Norte\n",
              "4  PA       UFV  Operação         Solar       1.0       1.0  Norte"
            ]
          },
          "metadata": {
            "tags": []
          },
          "execution_count": 9
        }
      ]
    },
    {
      "cell_type": "code",
      "metadata": {
        "colab": {
          "base_uri": "https://localhost:8080/",
          "height": 227
        },
        "id": "95TbkalGRlin",
        "outputId": "33f225cb-e2f4-4e91-82fd-b6b589274901"
      },
      "source": [
        "#Potência gerada a partir de fontes renováveis em cada região do Brasil (GW)\r\n",
        "renov = df_renov[['Fonte_Energia','Pot_fis','Regiao']].groupby(['Regiao']).sum()\r\n",
        "renov['Pot_fis'] = renov['Pot_fis']/10**6\r\n",
        "renov"
      ],
      "execution_count": 10,
      "outputs": [
        {
          "output_type": "execute_result",
          "data": {
            "text/html": [
              "<div>\n",
              "<style scoped>\n",
              "    .dataframe tbody tr th:only-of-type {\n",
              "        vertical-align: middle;\n",
              "    }\n",
              "\n",
              "    .dataframe tbody tr th {\n",
              "        vertical-align: top;\n",
              "    }\n",
              "\n",
              "    .dataframe thead th {\n",
              "        text-align: right;\n",
              "    }\n",
              "</style>\n",
              "<table border=\"1\" class=\"dataframe\">\n",
              "  <thead>\n",
              "    <tr style=\"text-align: right;\">\n",
              "      <th></th>\n",
              "      <th>Pot_fis</th>\n",
              "    </tr>\n",
              "    <tr>\n",
              "      <th>Regiao</th>\n",
              "      <th></th>\n",
              "    </tr>\n",
              "  </thead>\n",
              "  <tbody>\n",
              "    <tr>\n",
              "      <th>Centro-Oeste</th>\n",
              "      <td>12.756112</td>\n",
              "    </tr>\n",
              "    <tr>\n",
              "      <th>Nordeste</th>\n",
              "      <td>30.441857</td>\n",
              "    </tr>\n",
              "    <tr>\n",
              "      <th>Norte</th>\n",
              "      <td>33.483606</td>\n",
              "    </tr>\n",
              "    <tr>\n",
              "      <th>Sudeste</th>\n",
              "      <td>39.380644</td>\n",
              "    </tr>\n",
              "    <tr>\n",
              "      <th>Sul</th>\n",
              "      <td>28.076700</td>\n",
              "    </tr>\n",
              "  </tbody>\n",
              "</table>\n",
              "</div>"
            ],
            "text/plain": [
              "                Pot_fis\n",
              "Regiao                 \n",
              "Centro-Oeste  12.756112\n",
              "Nordeste      30.441857\n",
              "Norte         33.483606\n",
              "Sudeste       39.380644\n",
              "Sul           28.076700"
            ]
          },
          "metadata": {
            "tags": []
          },
          "execution_count": 10
        }
      ]
    },
    {
      "cell_type": "markdown",
      "metadata": {
        "id": "YYSsf3dEwzuA"
      },
      "source": [
        "## Cáculo da porcentagem total de energia gerada por fontes renováveis"
      ]
    },
    {
      "cell_type": "code",
      "metadata": {
        "colab": {
          "base_uri": "https://localhost:8080/"
        },
        "id": "t0eAsdGHXFH7",
        "outputId": "1c9980c9-ec53-4bb3-b166-2b00a1d28292"
      },
      "source": [
        "#Potência total gerada no brasil (GW)\r\n",
        "pot_total = dados['Pot_fis'].sum()/10**6\r\n",
        "pot_total"
      ],
      "execution_count": 11,
      "outputs": [
        {
          "output_type": "execute_result",
          "data": {
            "text/plain": [
              "173.78592831"
            ]
          },
          "metadata": {
            "tags": []
          },
          "execution_count": 11
        }
      ]
    },
    {
      "cell_type": "code",
      "metadata": {
        "colab": {
          "base_uri": "https://localhost:8080/"
        },
        "id": "Q3i2AxyaQAnn",
        "outputId": "2c38f349-a59d-460b-d5b0-d5f47b7bc925"
      },
      "source": [
        "#Potência total gerada a partir de fontes de energias renováveis no brasil (GW)\r\n",
        "pot_renov = df_renov['Pot_fis'].sum()/10**6\r\n",
        "pot_renov"
      ],
      "execution_count": 12,
      "outputs": [
        {
          "output_type": "execute_result",
          "data": {
            "text/plain": [
              "144.13891897"
            ]
          },
          "metadata": {
            "tags": []
          },
          "execution_count": 12
        }
      ]
    },
    {
      "cell_type": "code",
      "metadata": {
        "colab": {
          "base_uri": "https://localhost:8080/"
        },
        "id": "Jm0vQDN7WqR9",
        "outputId": "e28db9f4-6459-49f5-b903-207e6b3bf65c"
      },
      "source": [
        "#Potência total gerada a partir de fontes de energias renováveis no brasil (%)\r\n",
        "pot_renov/pot_total"
      ],
      "execution_count": 13,
      "outputs": [
        {
          "output_type": "execute_result",
          "data": {
            "text/plain": [
              "0.8294050063298821"
            ]
          },
          "metadata": {
            "tags": []
          },
          "execution_count": 13
        }
      ]
    },
    {
      "cell_type": "markdown",
      "metadata": {
        "id": "RVivNIovwrnt"
      },
      "source": [
        "## Plotando os gráficos"
      ]
    },
    {
      "cell_type": "code",
      "metadata": {
        "colab": {
          "base_uri": "https://localhost:8080/",
          "height": 264
        },
        "id": "pFjni3wEbII6",
        "outputId": "3ffe402d-c311-4d5e-bec7-1e8801d57f31"
      },
      "source": [
        "#Plotando gráfico de barras\r\n",
        "plt.bar(renov.index.values, renov['Pot_fis'].values);"
      ],
      "execution_count": 14,
      "outputs": [
        {
          "output_type": "display_data",
          "data": {
            "image/png": "[encoded data removed]",
            "text/plain": [
              "<Figure size 432x288 with 1 Axes>"
            ]
          },
          "metadata": {
            "tags": [],
            "needs_background": "light"
          }
        }
      ]
    },
    {
      "cell_type": "code",
      "metadata": {
        "colab": {
          "base_uri": "https://localhost:8080/",
          "height": 441
        },
        "id": "7suaXQldZhBa",
        "outputId": "e109f9fb-e224-47b3-ae8f-39a435866cda"
      },
      "source": [
        "#Plotando gráfico de barras mais apresentável\r\n",
        "#Definindo figura e eixos\r\n",
        "fig, ax = plt.subplots(figsize=(8,6))\r\n",
        "\r\n",
        "#Plotando barras\r\n",
        "bars =  plt.bar(renov.index.values, renov['Pot_fis'].values, alpha = 0.7)\r\n",
        "\r\n",
        "#Definindo cores das barras\r\n",
        "bars[0].set_color('mediumturquoise')\r\n",
        "bars[1].set_color('orange')\r\n",
        "bars[2].set_color('orangered')\r\n",
        "bars[3].set_color('cornflowerblue')\r\n",
        "bars[4].set_color('mediumseagreen')\r\n",
        "\r\n",
        "#Apagando algumas ticks\r\n",
        "ax.tick_params(top=False, bottom=True, left=False,\r\n",
        "               right=False, labelleft=False, labelbottom=True) \r\n",
        "\r\n",
        "#Ajustando os parâmetros das ticks restantes. Os parâmetros color e labelcolor\r\n",
        "#recebem uma lista onde cada posição representa o RGBA.\r\n",
        "ax.tick_params(axis='x', which='both',\r\n",
        "               color=[0,0,0,0.2], labelcolor = [0,0,0,0.7], labelsize = 13)\r\n",
        "\r\n",
        "#Guardando o endereço de cada spine numa lista e\r\n",
        "#editando seus parâmetros de visibilidade e transparência\r\n",
        "aux = [spine for spine in plt.gca().spines.values()]\r\n",
        "aux[0].set_visible(False)\r\n",
        "aux[1].set_visible(False)\r\n",
        "aux[2].set_alpha(alpha = 0.2)\r\n",
        "aux[3].set_visible(False)\r\n",
        "\r\n",
        "#Colocando os valores numéricos em cima de cada barra\r\n",
        "for bar in bars:\r\n",
        "    plt.gca().text(bar.get_x() + bar.get_width()/2, bar.get_height() - 2.5,\r\n",
        "                   \"{:.1f}\".format(bar.get_height()), ha='center', color='w',\r\n",
        "                   fontsize=16)\r\n",
        "    \r\n",
        "#Colocando o título e o grid horizontal\r\n",
        "plt.title('POTÊNCIA GERADA POR FONTES RENOVÁVEIS (GW)',fontsize = 18, alpha = 0.7)\r\n",
        "plt.grid(axis = 'y', alpha = 0.1)\r\n",
        "\r\n",
        "#Ajustando a área da figura e mostrando o plot resultante\r\n",
        "plt.tight_layout()\r\n",
        "plt.show()"
      ],
      "execution_count": 15,
      "outputs": [
        {
          "output_type": "display_data",
          "data": {
            "image/png": "[encoded data removed]",
            "text/plain": [
              "<Figure size 576x432 with 1 Axes>"
            ]
          },
          "metadata": {
            "tags": [],
            "needs_background": "light"
          }
        }
      ]
    }
  ]
}